{
 "cells": [
  {
   "cell_type": "code",
   "execution_count": null,
   "outputs": [],
   "source": [
    "print('hello, world!')"
   ],
   "metadata": {
    "collapsed": false,
    "pycharm": {
     "name": "#%%\n"
    }
   }
  },
  {
   "cell_type": "code",
   "execution_count": 8,
   "outputs": [
    {
     "data": {
      "text/plain": "                                              title            artist  \\\n0                     STARSTRUKK (feat. Katy Perry)             3OH!3   \n1                       My First Kiss (feat. Ke$ha)             3OH!3   \n2                                   I Need A Dollar        Aloe Blacc   \n3     Airplanes (feat. Hayley Williams of Paramore)             B.o.B   \n4                 Nothin' on You (feat. Bruno Mars)             B.o.B   \n...                                             ...               ...   \n998                     Strike a Pose (feat. Aitch)  Young T & Bugsey   \n999       The London (feat. J. Cole & Travis Scott)        Young Thug   \n1000                                            NaN               NaN   \n1001                                            NaN               NaN   \n1002                                            NaN               NaN   \n\n        top genre  year released       added    bpm  nrgy  dnce   dB  live  \\\n0       dance pop         2009.0  2022‑02‑17  140.0  81.0  61.0 -6.0  23.0   \n1       dance pop         2010.0  2022‑02‑17  138.0  89.0  68.0 -4.0  36.0   \n2        pop soul         2010.0  2022‑02‑17   95.0  48.0  84.0 -7.0   9.0   \n3     atl hip hop         2010.0  2022‑02‑17   93.0  87.0  66.0 -4.0   4.0   \n4     atl hip hop         2010.0  2022‑02‑17  104.0  85.0  69.0 -6.0   9.0   \n...           ...            ...         ...    ...   ...   ...  ...   ...   \n998     afroswing         2019.0  2020‑08‑20  138.0  58.0  53.0 -6.0  10.0   \n999   atl hip hop         2019.0  2020‑06‑22   98.0  59.0  80.0 -7.0  13.0   \n1000          NaN            NaN         NaN    NaN   NaN   NaN  NaN   NaN   \n1001          NaN            NaN         NaN    NaN   NaN   NaN  NaN   NaN   \n1002          NaN            NaN         NaN    NaN   NaN   NaN  NaN   NaN   \n\n       val    dur  acous  spch   pop  top year artist type  \n0     23.0  203.0    0.0   6.0  70.0    2010.0         Duo  \n1     83.0  192.0    1.0   8.0  68.0    2010.0         Duo  \n2     96.0  243.0   20.0   3.0  72.0    2010.0        Solo  \n3     38.0  180.0   11.0  12.0  80.0    2010.0        Solo  \n4     74.0  268.0   39.0   5.0  79.0    2010.0        Solo  \n...    ...    ...    ...   ...   ...       ...         ...  \n998   59.0  214.0    1.0  10.0  67.0    2019.0         Duo  \n999   18.0  200.0    2.0  15.0  75.0    2019.0        Solo  \n1000   NaN    NaN    NaN   NaN   NaN       NaN         NaN  \n1001   NaN    NaN    NaN   NaN   NaN       NaN         NaN  \n1002   NaN    NaN    NaN   NaN   NaN       NaN         NaN  \n\n[1003 rows x 17 columns]",
      "text/html": "<div>\n<style scoped>\n    .dataframe tbody tr th:only-of-type {\n        vertical-align: middle;\n    }\n\n    .dataframe tbody tr th {\n        vertical-align: top;\n    }\n\n    .dataframe thead th {\n        text-align: right;\n    }\n</style>\n<table border=\"1\" class=\"dataframe\">\n  <thead>\n    <tr style=\"text-align: right;\">\n      <th></th>\n      <th>title</th>\n      <th>artist</th>\n      <th>top genre</th>\n      <th>year released</th>\n      <th>added</th>\n      <th>bpm</th>\n      <th>nrgy</th>\n      <th>dnce</th>\n      <th>dB</th>\n      <th>live</th>\n      <th>val</th>\n      <th>dur</th>\n      <th>acous</th>\n      <th>spch</th>\n      <th>pop</th>\n      <th>top year</th>\n      <th>artist type</th>\n    </tr>\n  </thead>\n  <tbody>\n    <tr>\n      <th>0</th>\n      <td>STARSTRUKK (feat. Katy Perry)</td>\n      <td>3OH!3</td>\n      <td>dance pop</td>\n      <td>2009.0</td>\n      <td>2022‑02‑17</td>\n      <td>140.0</td>\n      <td>81.0</td>\n      <td>61.0</td>\n      <td>-6.0</td>\n      <td>23.0</td>\n      <td>23.0</td>\n      <td>203.0</td>\n      <td>0.0</td>\n      <td>6.0</td>\n      <td>70.0</td>\n      <td>2010.0</td>\n      <td>Duo</td>\n    </tr>\n    <tr>\n      <th>1</th>\n      <td>My First Kiss (feat. Ke$ha)</td>\n      <td>3OH!3</td>\n      <td>dance pop</td>\n      <td>2010.0</td>\n      <td>2022‑02‑17</td>\n      <td>138.0</td>\n      <td>89.0</td>\n      <td>68.0</td>\n      <td>-4.0</td>\n      <td>36.0</td>\n      <td>83.0</td>\n      <td>192.0</td>\n      <td>1.0</td>\n      <td>8.0</td>\n      <td>68.0</td>\n      <td>2010.0</td>\n      <td>Duo</td>\n    </tr>\n    <tr>\n      <th>2</th>\n      <td>I Need A Dollar</td>\n      <td>Aloe Blacc</td>\n      <td>pop soul</td>\n      <td>2010.0</td>\n      <td>2022‑02‑17</td>\n      <td>95.0</td>\n      <td>48.0</td>\n      <td>84.0</td>\n      <td>-7.0</td>\n      <td>9.0</td>\n      <td>96.0</td>\n      <td>243.0</td>\n      <td>20.0</td>\n      <td>3.0</td>\n      <td>72.0</td>\n      <td>2010.0</td>\n      <td>Solo</td>\n    </tr>\n    <tr>\n      <th>3</th>\n      <td>Airplanes (feat. Hayley Williams of Paramore)</td>\n      <td>B.o.B</td>\n      <td>atl hip hop</td>\n      <td>2010.0</td>\n      <td>2022‑02‑17</td>\n      <td>93.0</td>\n      <td>87.0</td>\n      <td>66.0</td>\n      <td>-4.0</td>\n      <td>4.0</td>\n      <td>38.0</td>\n      <td>180.0</td>\n      <td>11.0</td>\n      <td>12.0</td>\n      <td>80.0</td>\n      <td>2010.0</td>\n      <td>Solo</td>\n    </tr>\n    <tr>\n      <th>4</th>\n      <td>Nothin' on You (feat. Bruno Mars)</td>\n      <td>B.o.B</td>\n      <td>atl hip hop</td>\n      <td>2010.0</td>\n      <td>2022‑02‑17</td>\n      <td>104.0</td>\n      <td>85.0</td>\n      <td>69.0</td>\n      <td>-6.0</td>\n      <td>9.0</td>\n      <td>74.0</td>\n      <td>268.0</td>\n      <td>39.0</td>\n      <td>5.0</td>\n      <td>79.0</td>\n      <td>2010.0</td>\n      <td>Solo</td>\n    </tr>\n    <tr>\n      <th>...</th>\n      <td>...</td>\n      <td>...</td>\n      <td>...</td>\n      <td>...</td>\n      <td>...</td>\n      <td>...</td>\n      <td>...</td>\n      <td>...</td>\n      <td>...</td>\n      <td>...</td>\n      <td>...</td>\n      <td>...</td>\n      <td>...</td>\n      <td>...</td>\n      <td>...</td>\n      <td>...</td>\n      <td>...</td>\n    </tr>\n    <tr>\n      <th>998</th>\n      <td>Strike a Pose (feat. Aitch)</td>\n      <td>Young T &amp; Bugsey</td>\n      <td>afroswing</td>\n      <td>2019.0</td>\n      <td>2020‑08‑20</td>\n      <td>138.0</td>\n      <td>58.0</td>\n      <td>53.0</td>\n      <td>-6.0</td>\n      <td>10.0</td>\n      <td>59.0</td>\n      <td>214.0</td>\n      <td>1.0</td>\n      <td>10.0</td>\n      <td>67.0</td>\n      <td>2019.0</td>\n      <td>Duo</td>\n    </tr>\n    <tr>\n      <th>999</th>\n      <td>The London (feat. J. Cole &amp; Travis Scott)</td>\n      <td>Young Thug</td>\n      <td>atl hip hop</td>\n      <td>2019.0</td>\n      <td>2020‑06‑22</td>\n      <td>98.0</td>\n      <td>59.0</td>\n      <td>80.0</td>\n      <td>-7.0</td>\n      <td>13.0</td>\n      <td>18.0</td>\n      <td>200.0</td>\n      <td>2.0</td>\n      <td>15.0</td>\n      <td>75.0</td>\n      <td>2019.0</td>\n      <td>Solo</td>\n    </tr>\n    <tr>\n      <th>1000</th>\n      <td>NaN</td>\n      <td>NaN</td>\n      <td>NaN</td>\n      <td>NaN</td>\n      <td>NaN</td>\n      <td>NaN</td>\n      <td>NaN</td>\n      <td>NaN</td>\n      <td>NaN</td>\n      <td>NaN</td>\n      <td>NaN</td>\n      <td>NaN</td>\n      <td>NaN</td>\n      <td>NaN</td>\n      <td>NaN</td>\n      <td>NaN</td>\n      <td>NaN</td>\n    </tr>\n    <tr>\n      <th>1001</th>\n      <td>NaN</td>\n      <td>NaN</td>\n      <td>NaN</td>\n      <td>NaN</td>\n      <td>NaN</td>\n      <td>NaN</td>\n      <td>NaN</td>\n      <td>NaN</td>\n      <td>NaN</td>\n      <td>NaN</td>\n      <td>NaN</td>\n      <td>NaN</td>\n      <td>NaN</td>\n      <td>NaN</td>\n      <td>NaN</td>\n      <td>NaN</td>\n      <td>NaN</td>\n    </tr>\n    <tr>\n      <th>1002</th>\n      <td>NaN</td>\n      <td>NaN</td>\n      <td>NaN</td>\n      <td>NaN</td>\n      <td>NaN</td>\n      <td>NaN</td>\n      <td>NaN</td>\n      <td>NaN</td>\n      <td>NaN</td>\n      <td>NaN</td>\n      <td>NaN</td>\n      <td>NaN</td>\n      <td>NaN</td>\n      <td>NaN</td>\n      <td>NaN</td>\n      <td>NaN</td>\n      <td>NaN</td>\n    </tr>\n  </tbody>\n</table>\n<p>1003 rows × 17 columns</p>\n</div>"
     },
     "execution_count": 8,
     "metadata": {},
     "output_type": "execute_result"
    }
   ],
   "source": [
    "import pandas as pd\n",
    "\n",
    "df = pd.read_csv('spotify_data.csv')\n",
    "df"
   ],
   "metadata": {
    "collapsed": false,
    "pycharm": {
     "name": "#%%\n"
    }
   }
  },
  {
   "cell_type": "raw",
   "source": [],
   "metadata": {
    "collapsed": false,
    "pycharm": {
     "name": "#%% raw\n"
    }
   },
   "outputs": []
  }
 ],
 "metadata": {
  "kernelspec": {
   "display_name": "Python 3",
   "language": "python",
   "name": "python3"
  },
  "language_info": {
   "codemirror_mode": {
    "name": "ipython",
    "version": 2
   },
   "file_extension": ".py",
   "mimetype": "text/x-python",
   "name": "python",
   "nbconvert_exporter": "python",
   "pygments_lexer": "ipython2",
   "version": "2.7.6"
  }
 },
 "nbformat": 4,
 "nbformat_minor": 0
}