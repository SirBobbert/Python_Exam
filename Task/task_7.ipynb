{
 "cells": [
  {
   "cell_type": "raw",
   "metadata": {
    "collapsed": true,
    "pycharm": {
     "name": "#%% raw\n"
    }
   },
   "source": [
    "7.\tSentiment analysis på top-5 mest populære sange\n",
    "    a.\tWebscraper sangteksterne"
   ]
  },
  {
   "cell_type": "code",
   "execution_count": 39,
   "outputs": [],
   "source": [
    "# imports\n",
    "import pandas as pd\n",
    "from selenium import webdriver"
   ],
   "metadata": {
    "collapsed": false,
    "pycharm": {
     "name": "#%%\n"
    }
   }
  },
  {
   "cell_type": "code",
   "execution_count": 51,
   "outputs": [
    {
     "name": "stdout",
     "output_type": "stream",
     "text": [
      "{'Sweater Weather': 'The Neighbourhood', 'Another Love': 'Tom Odell', 'Lost': 'Frank Ocean', 'Locked out of Heaven': 'Bruno Mars', 'Believer': 'Imagine Dragons'}\n"
     ]
    },
    {
     "data": {
      "text/plain": "                    title             artist                top genre  \\\n391       Sweater Weather  The Neighbourhood  modern alternative rock   \n393          Another Love          Tom Odell                chill pop   \n230                  Lost        Frank Ocean          alternative r&b   \n315  Locked out of Heaven         Bruno Mars                dance pop   \n735              Believer    Imagine Dragons              modern rock   \n\n     year released       added    bpm  nrgy  dnce   dB  live   val    dur  \\\n391         2013.0  2020‑06‑11  124.0  81.0  61.0 -3.0  10.0  40.0  240.0   \n393         2013.0  2020‑06‑11  123.0  54.0  45.0 -9.0   9.0  13.0  244.0   \n230         2012.0  2020‑06‑22  123.0  60.0  91.0 -5.0  17.0  50.0  234.0   \n315         2012.0  2020‑06‑11  144.0  70.0  73.0 -4.0  31.0  87.0  233.0   \n735         2017.0  2021‑01‑28  125.0  78.0  78.0 -4.0   8.0  67.0  204.0   \n\n     acous  spch   pop  top year artist type  \n391    5.0   3.0  95.0    2013.0  Band/Group  \n393   70.0   4.0  94.0    2013.0        Solo  \n230    3.0  23.0  91.0    2012.0        Solo  \n315    5.0   4.0  91.0    2013.0        Solo  \n735    6.0  13.0  91.0    2017.0  Band/Group  ",
      "text/html": "<div>\n<style scoped>\n    .dataframe tbody tr th:only-of-type {\n        vertical-align: middle;\n    }\n\n    .dataframe tbody tr th {\n        vertical-align: top;\n    }\n\n    .dataframe thead th {\n        text-align: right;\n    }\n</style>\n<table border=\"1\" class=\"dataframe\">\n  <thead>\n    <tr style=\"text-align: right;\">\n      <th></th>\n      <th>title</th>\n      <th>artist</th>\n      <th>top genre</th>\n      <th>year released</th>\n      <th>added</th>\n      <th>bpm</th>\n      <th>nrgy</th>\n      <th>dnce</th>\n      <th>dB</th>\n      <th>live</th>\n      <th>val</th>\n      <th>dur</th>\n      <th>acous</th>\n      <th>spch</th>\n      <th>pop</th>\n      <th>top year</th>\n      <th>artist type</th>\n    </tr>\n  </thead>\n  <tbody>\n    <tr>\n      <th>391</th>\n      <td>Sweater Weather</td>\n      <td>The Neighbourhood</td>\n      <td>modern alternative rock</td>\n      <td>2013.0</td>\n      <td>2020‑06‑11</td>\n      <td>124.0</td>\n      <td>81.0</td>\n      <td>61.0</td>\n      <td>-3.0</td>\n      <td>10.0</td>\n      <td>40.0</td>\n      <td>240.0</td>\n      <td>5.0</td>\n      <td>3.0</td>\n      <td>95.0</td>\n      <td>2013.0</td>\n      <td>Band/Group</td>\n    </tr>\n    <tr>\n      <th>393</th>\n      <td>Another Love</td>\n      <td>Tom Odell</td>\n      <td>chill pop</td>\n      <td>2013.0</td>\n      <td>2020‑06‑11</td>\n      <td>123.0</td>\n      <td>54.0</td>\n      <td>45.0</td>\n      <td>-9.0</td>\n      <td>9.0</td>\n      <td>13.0</td>\n      <td>244.0</td>\n      <td>70.0</td>\n      <td>4.0</td>\n      <td>94.0</td>\n      <td>2013.0</td>\n      <td>Solo</td>\n    </tr>\n    <tr>\n      <th>230</th>\n      <td>Lost</td>\n      <td>Frank Ocean</td>\n      <td>alternative r&amp;b</td>\n      <td>2012.0</td>\n      <td>2020‑06‑22</td>\n      <td>123.0</td>\n      <td>60.0</td>\n      <td>91.0</td>\n      <td>-5.0</td>\n      <td>17.0</td>\n      <td>50.0</td>\n      <td>234.0</td>\n      <td>3.0</td>\n      <td>23.0</td>\n      <td>91.0</td>\n      <td>2012.0</td>\n      <td>Solo</td>\n    </tr>\n    <tr>\n      <th>315</th>\n      <td>Locked out of Heaven</td>\n      <td>Bruno Mars</td>\n      <td>dance pop</td>\n      <td>2012.0</td>\n      <td>2020‑06‑11</td>\n      <td>144.0</td>\n      <td>70.0</td>\n      <td>73.0</td>\n      <td>-4.0</td>\n      <td>31.0</td>\n      <td>87.0</td>\n      <td>233.0</td>\n      <td>5.0</td>\n      <td>4.0</td>\n      <td>91.0</td>\n      <td>2013.0</td>\n      <td>Solo</td>\n    </tr>\n    <tr>\n      <th>735</th>\n      <td>Believer</td>\n      <td>Imagine Dragons</td>\n      <td>modern rock</td>\n      <td>2017.0</td>\n      <td>2021‑01‑28</td>\n      <td>125.0</td>\n      <td>78.0</td>\n      <td>78.0</td>\n      <td>-4.0</td>\n      <td>8.0</td>\n      <td>67.0</td>\n      <td>204.0</td>\n      <td>6.0</td>\n      <td>13.0</td>\n      <td>91.0</td>\n      <td>2017.0</td>\n      <td>Band/Group</td>\n    </tr>\n  </tbody>\n</table>\n</div>"
     },
     "execution_count": 51,
     "metadata": {},
     "output_type": "execute_result"
    }
   ],
   "source": [
    "# importing dataset\n",
    "dataset = pd.read_csv('spotify_data.csv')\n",
    "\n",
    "# dataframe from the 5 highest value of pop\n",
    "top_songs = dataset.nlargest(5, 'pop', keep='first')\n",
    "\n",
    "# selects the titles and artists and makes two lists\n",
    "top_songs_title = top_songs.iloc[:,0].tolist()\n",
    "top_songs_artists = top_songs.iloc[:,1].tolist()\n",
    "\n",
    "# creates a dict from the two lists\n",
    "new_dict = dict(zip(top_songs_title, top_songs_artists))\n",
    "\n",
    "print(new_dict)\n",
    "top_songs"
   ],
   "metadata": {
    "collapsed": false,
    "pycharm": {
     "name": "#%%\n"
    }
   }
  },
  {
   "cell_type": "code",
   "execution_count": 42,
   "outputs": [
    {
     "name": "stderr",
     "output_type": "stream",
     "text": [
      "C:\\Users\\ROBERT~1\\AppData\\Local\\Temp/ipykernel_3964/4268296312.py:5: DeprecationWarning: executable_path has been deprecated, please pass in a Service object\n",
      "  driver = webdriver.Firefox(\n"
     ]
    },
    {
     "ename": "NoSuchWindowException",
     "evalue": "Message: Browsing context has been discarded\nStacktrace:\nWebDriverError@chrome://remote/content/shared/webdriver/Errors.jsm:183:5\nNoSuchWindowError@chrome://remote/content/shared/webdriver/Errors.jsm:437:5\nassert.that/<@chrome://remote/content/shared/webdriver/Assert.jsm:435:13\nassert.open@chrome://remote/content/shared/webdriver/Assert.jsm:143:4\nGeckoDriver.prototype.maximizeWindow@chrome://remote/content/marionette/driver.js:2329:10\ndespatch@chrome://remote/content/marionette/server.js:306:40\nexecute@chrome://remote/content/marionette/server.js:279:16\nonPacket/<@chrome://remote/content/marionette/server.js:252:20\nonPacket@chrome://remote/content/marionette/server.js:253:9\n_onJSONObjectReady/<@chrome://remote/content/marionette/transport.js:500:20\n",
     "output_type": "error",
     "traceback": [
      "\u001B[1;31m---------------------------------------------------------------------------\u001B[0m",
      "\u001B[1;31mNoSuchWindowException\u001B[0m                     Traceback (most recent call last)",
      "\u001B[1;32mC:\\Users\\ROBERT~1\\AppData\\Local\\Temp/ipykernel_3964/4268296312.py\u001B[0m in \u001B[0;36m<module>\u001B[1;34m\u001B[0m\n\u001B[0;32m      8\u001B[0m \u001B[1;31m# opens url and maximises windows\u001B[0m\u001B[1;33m\u001B[0m\u001B[1;33m\u001B[0m\u001B[0m\n\u001B[0;32m      9\u001B[0m \u001B[0mdriver\u001B[0m\u001B[1;33m.\u001B[0m\u001B[0mget\u001B[0m\u001B[1;33m(\u001B[0m\u001B[0murl\u001B[0m\u001B[1;33m)\u001B[0m\u001B[1;33m\u001B[0m\u001B[1;33m\u001B[0m\u001B[0m\n\u001B[1;32m---> 10\u001B[1;33m \u001B[0mdriver\u001B[0m\u001B[1;33m.\u001B[0m\u001B[0mmaximize_window\u001B[0m\u001B[1;33m(\u001B[0m\u001B[1;33m)\u001B[0m\u001B[1;33m\u001B[0m\u001B[1;33m\u001B[0m\u001B[0m\n\u001B[0m\u001B[0;32m     11\u001B[0m \u001B[1;33m\u001B[0m\u001B[0m\n\u001B[0;32m     12\u001B[0m \u001B[1;31m# wait for and accept cookies\u001B[0m\u001B[1;33m\u001B[0m\u001B[1;33m\u001B[0m\u001B[0m\n",
      "\u001B[1;32m~\\anaconda3\\lib\\site-packages\\selenium\\webdriver\\remote\\webdriver.py\u001B[0m in \u001B[0;36mmaximize_window\u001B[1;34m(self)\u001B[0m\n\u001B[0;32m    983\u001B[0m         \u001B[0mparams\u001B[0m \u001B[1;33m=\u001B[0m \u001B[1;32mNone\u001B[0m\u001B[1;33m\u001B[0m\u001B[1;33m\u001B[0m\u001B[0m\n\u001B[0;32m    984\u001B[0m         \u001B[0mcommand\u001B[0m \u001B[1;33m=\u001B[0m \u001B[0mCommand\u001B[0m\u001B[1;33m.\u001B[0m\u001B[0mW3C_MAXIMIZE_WINDOW\u001B[0m\u001B[1;33m\u001B[0m\u001B[1;33m\u001B[0m\u001B[0m\n\u001B[1;32m--> 985\u001B[1;33m         \u001B[0mself\u001B[0m\u001B[1;33m.\u001B[0m\u001B[0mexecute\u001B[0m\u001B[1;33m(\u001B[0m\u001B[0mcommand\u001B[0m\u001B[1;33m,\u001B[0m \u001B[0mparams\u001B[0m\u001B[1;33m)\u001B[0m\u001B[1;33m\u001B[0m\u001B[1;33m\u001B[0m\u001B[0m\n\u001B[0m\u001B[0;32m    986\u001B[0m \u001B[1;33m\u001B[0m\u001B[0m\n\u001B[0;32m    987\u001B[0m     \u001B[1;32mdef\u001B[0m \u001B[0mfullscreen_window\u001B[0m\u001B[1;33m(\u001B[0m\u001B[0mself\u001B[0m\u001B[1;33m)\u001B[0m \u001B[1;33m->\u001B[0m \u001B[1;32mNone\u001B[0m\u001B[1;33m:\u001B[0m\u001B[1;33m\u001B[0m\u001B[1;33m\u001B[0m\u001B[0m\n",
      "\u001B[1;32m~\\anaconda3\\lib\\site-packages\\selenium\\webdriver\\remote\\webdriver.py\u001B[0m in \u001B[0;36mexecute\u001B[1;34m(self, driver_command, params)\u001B[0m\n\u001B[0;32m    423\u001B[0m         \u001B[0mresponse\u001B[0m \u001B[1;33m=\u001B[0m \u001B[0mself\u001B[0m\u001B[1;33m.\u001B[0m\u001B[0mcommand_executor\u001B[0m\u001B[1;33m.\u001B[0m\u001B[0mexecute\u001B[0m\u001B[1;33m(\u001B[0m\u001B[0mdriver_command\u001B[0m\u001B[1;33m,\u001B[0m \u001B[0mparams\u001B[0m\u001B[1;33m)\u001B[0m\u001B[1;33m\u001B[0m\u001B[1;33m\u001B[0m\u001B[0m\n\u001B[0;32m    424\u001B[0m         \u001B[1;32mif\u001B[0m \u001B[0mresponse\u001B[0m\u001B[1;33m:\u001B[0m\u001B[1;33m\u001B[0m\u001B[1;33m\u001B[0m\u001B[0m\n\u001B[1;32m--> 425\u001B[1;33m             \u001B[0mself\u001B[0m\u001B[1;33m.\u001B[0m\u001B[0merror_handler\u001B[0m\u001B[1;33m.\u001B[0m\u001B[0mcheck_response\u001B[0m\u001B[1;33m(\u001B[0m\u001B[0mresponse\u001B[0m\u001B[1;33m)\u001B[0m\u001B[1;33m\u001B[0m\u001B[1;33m\u001B[0m\u001B[0m\n\u001B[0m\u001B[0;32m    426\u001B[0m             response['value'] = self._unwrap_value(\n\u001B[0;32m    427\u001B[0m                 response.get('value', None))\n",
      "\u001B[1;32m~\\anaconda3\\lib\\site-packages\\selenium\\webdriver\\remote\\errorhandler.py\u001B[0m in \u001B[0;36mcheck_response\u001B[1;34m(self, response)\u001B[0m\n\u001B[0;32m    245\u001B[0m                 \u001B[0malert_text\u001B[0m \u001B[1;33m=\u001B[0m \u001B[0mvalue\u001B[0m\u001B[1;33m[\u001B[0m\u001B[1;34m'alert'\u001B[0m\u001B[1;33m]\u001B[0m\u001B[1;33m.\u001B[0m\u001B[0mget\u001B[0m\u001B[1;33m(\u001B[0m\u001B[1;34m'text'\u001B[0m\u001B[1;33m)\u001B[0m\u001B[1;33m\u001B[0m\u001B[1;33m\u001B[0m\u001B[0m\n\u001B[0;32m    246\u001B[0m             \u001B[1;32mraise\u001B[0m \u001B[0mexception_class\u001B[0m\u001B[1;33m(\u001B[0m\u001B[0mmessage\u001B[0m\u001B[1;33m,\u001B[0m \u001B[0mscreen\u001B[0m\u001B[1;33m,\u001B[0m \u001B[0mstacktrace\u001B[0m\u001B[1;33m,\u001B[0m \u001B[0malert_text\u001B[0m\u001B[1;33m)\u001B[0m  \u001B[1;31m# type: ignore[call-arg]  # mypy is not smart enough here\u001B[0m\u001B[1;33m\u001B[0m\u001B[1;33m\u001B[0m\u001B[0m\n\u001B[1;32m--> 247\u001B[1;33m         \u001B[1;32mraise\u001B[0m \u001B[0mexception_class\u001B[0m\u001B[1;33m(\u001B[0m\u001B[0mmessage\u001B[0m\u001B[1;33m,\u001B[0m \u001B[0mscreen\u001B[0m\u001B[1;33m,\u001B[0m \u001B[0mstacktrace\u001B[0m\u001B[1;33m)\u001B[0m\u001B[1;33m\u001B[0m\u001B[1;33m\u001B[0m\u001B[0m\n\u001B[0m\u001B[0;32m    248\u001B[0m \u001B[1;33m\u001B[0m\u001B[0m\n\u001B[0;32m    249\u001B[0m     \u001B[1;32mdef\u001B[0m \u001B[0m_value_or_default\u001B[0m\u001B[1;33m(\u001B[0m\u001B[0mself\u001B[0m\u001B[1;33m,\u001B[0m \u001B[0mobj\u001B[0m\u001B[1;33m:\u001B[0m \u001B[0mMapping\u001B[0m\u001B[1;33m[\u001B[0m\u001B[0m_KT\u001B[0m\u001B[1;33m,\u001B[0m \u001B[0m_VT\u001B[0m\u001B[1;33m]\u001B[0m\u001B[1;33m,\u001B[0m \u001B[0mkey\u001B[0m\u001B[1;33m:\u001B[0m \u001B[0m_KT\u001B[0m\u001B[1;33m,\u001B[0m \u001B[0mdefault\u001B[0m\u001B[1;33m:\u001B[0m \u001B[0m_VT\u001B[0m\u001B[1;33m)\u001B[0m \u001B[1;33m->\u001B[0m \u001B[0m_VT\u001B[0m\u001B[1;33m:\u001B[0m\u001B[1;33m\u001B[0m\u001B[1;33m\u001B[0m\u001B[0m\n",
      "\u001B[1;31mNoSuchWindowException\u001B[0m: Message: Browsing context has been discarded\nStacktrace:\nWebDriverError@chrome://remote/content/shared/webdriver/Errors.jsm:183:5\nNoSuchWindowError@chrome://remote/content/shared/webdriver/Errors.jsm:437:5\nassert.that/<@chrome://remote/content/shared/webdriver/Assert.jsm:435:13\nassert.open@chrome://remote/content/shared/webdriver/Assert.jsm:143:4\nGeckoDriver.prototype.maximizeWindow@chrome://remote/content/marionette/driver.js:2329:10\ndespatch@chrome://remote/content/marionette/server.js:306:40\nexecute@chrome://remote/content/marionette/server.js:279:16\nonPacket/<@chrome://remote/content/marionette/server.js:252:20\nonPacket@chrome://remote/content/marionette/server.js:253:9\n_onJSONObjectReady/<@chrome://remote/content/marionette/transport.js:500:20\n"
     ]
    }
   ],
   "source": [
    "# url\n",
    "url = 'https://www.azlyrics.com/'\n",
    "\n",
    "# driver setup\n",
    "driver = webdriver.Firefox(\n",
    "executable_path=r'C:\\Users\\Robert Pallesen\\OneDrive\\Datamatiker\\4. Semester\\Python\\docker_notebooks\\venv\\Lib\\site-packages\\selenium\\webdriver\\chrome\\geckodriver.exe')\n",
    "\n",
    "# opens url and maximises windows\n",
    "driver.get(url)\n",
    "driver.maximize_window()\n",
    "\n",
    "# wait for and accept cookies\n",
    "driver.implicitly_wait(3)\n",
    "driver.find_element_by_xpath('//*[@id=\"onetrust-accept-btn-handler\"]').click()\n",
    "\n",
    "song_texts = []\n",
    "\n",
    "for key, value in new_dict.items():\n",
    "\n",
    "    # selects the search form\n",
    "    elem = driver.find_element_by_xpath('//*[@id=\"q\"]')\n",
    "\n",
    "    # selects form\n",
    "    elem.click()\n",
    "\n",
    "    # types in the dict values in the form\n",
    "    elem.send_keys(key, ' ', value)\n",
    "\n",
    "    # submits form\n",
    "    elem.submit()\n",
    "\n",
    "    # clicks the top song\n",
    "    driver.find_element_by_xpath('/html/body/div[2]/div/div/div[1]/table/tbody/tr[1]/td/a').click()\n",
    "\n",
    "    # selects the text\n",
    "    txt = driver.find_element_by_xpath('/html/body/div[2]/div/div[2]/div[5]').text\n",
    "\n",
    "    # replaces '\\n' with '' so we get a cleaner text\n",
    "    txt.replace('\\n', '')\n",
    "\n",
    "    # prints song title and artist name\n",
    "    print('-------------------------------------------------------------')\n",
    "    print(key, value)\n",
    "    print()\n",
    "    # prints the song text\n",
    "    print(txt)\n",
    "\n",
    "    # adds the txt to song_text array\n",
    "    song_texts.append(txt)\n",
    "\n",
    "print(len(song_texts))"
   ],
   "metadata": {
    "collapsed": false,
    "pycharm": {
     "name": "#%%\n"
    }
   }
  }
 ],
 "metadata": {
  "kernelspec": {
   "display_name": "Python 3",
   "language": "python",
   "name": "python3"
  },
  "language_info": {
   "codemirror_mode": {
    "name": "ipython",
    "version": 2
   },
   "file_extension": ".py",
   "mimetype": "text/x-python",
   "name": "python",
   "nbconvert_exporter": "python",
   "pygments_lexer": "ipython2",
   "version": "2.7.6"
  }
 },
 "nbformat": 4,
 "nbformat_minor": 0
}