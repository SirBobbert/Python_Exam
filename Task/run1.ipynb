{
 "cells": [
  {
   "cell_type": "code",
   "execution_count": null,
   "metadata": {},
   "outputs": [],
   "source": [
    "import sys\n",
    "# Inserting the path of our taks/modules folder.\n",
    "sys.path.insert(0, \"/home/jovyan/my_notebooks/Python_Exam/Task\")\n",
    "import task_1,task_2,task_3,task_4,task_5,task_6\n",
    "\n",
    "print('\\n /-----\\ Task One! /-----\\ \\n')\n",
    "task_1.run()\n",
    "\n",
    "print('\\n /-----\\ Task Two! /-----\\ \\n')\n",
    "task_2.run()\n",
    "\n",
    "print('\\n /-----\\ Task Three! /-----\\ \\n')\n",
    "task_3.run()\n",
    "\n",
    "print('\\n /-----\\ Task Four! /-----\\ \\n')\n",
    "task_4.run()\n",
    "\n",
    "print('\\n /-----\\ Task Five! /-----\\ \\n')\n",
    "task_5.run()\n",
    "\n",
    "print('\\n /-----\\ Task Six! /-----\\ \\n')\n",
    "task_6.run()"
   ]
  }
 ],
 "metadata": {
  "interpreter": {
   "hash": "81794d4967e6c3204c66dcd87b604927b115b27c00565d3d43f05ba2f3a2cb0d"
  },
  "kernelspec": {
   "display_name": "Python 3.9.7 64-bit",
   "language": "python",
   "name": "python3"
  },
  "language_info": {
   "codemirror_mode": {
    "name": "ipython",
    "version": 3
   },
   "file_extension": ".py",
   "mimetype": "text/x-python",
   "name": "python",
   "nbconvert_exporter": "python",
   "pygments_lexer": "ipython3",
   "version": "3.9.7"
  }
 },
 "nbformat": 4,
 "nbformat_minor": 4
}
