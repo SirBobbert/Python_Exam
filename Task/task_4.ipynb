{
 "cells": [
  {
   "cell_type": "raw",
   "metadata": {
    "collapsed": true,
    "pycharm": {
     "name": "#%% raw\n"
    }
   },
   "source": [
    "4.\tHvad er top-3 genre inden for de forskellige artist types\n",
    "    a.\tHer vil vi bruge pandas dataframe"
   ]
  },
  {
   "cell_type": "code",
   "execution_count": 2,
   "metadata": {
    "collapsed": false,
    "pycharm": {
     "name": "#%%\n"
    }
   },
   "outputs": [
    {
     "name": "stdout",
     "output_type": "stream",
     "text": [
      "Artist type: Duo\n",
      "Genres and ratings: {'modern rock': 88.0, 'metropopolis': 87.0, 'pop': 83.0}\n",
      "Artist type: Solo\n",
      "Genres and ratings: {'chill pop': 94.0, 'dark clubbing': 89.0, 'bedroom pop': 88.0}\n",
      "Artist type: Band/Group\n",
      "Genres and ratings: {'australian psych': 88.0, 'reggae fusion': 85.0, 'indie pop': 84.0}\n",
      "Artist type: Trio\n",
      "Genres and ratings: {'atl hip hop': 75.66666666666667, 'modern rock': 71.0, 'dance pop': 70.2}\n"
     ]
    }
   ],
   "source": [
    "import pandas as pd\n",
    "\n",
    "# importing dataset\n",
    "df = pd.read_csv('spotify_data.csv')\n",
    "\n",
    "# finds all the artist types and makes a list\n",
    "artist_types = df.drop_duplicates(subset=['artist type']).iloc[:,16].tolist()\n",
    "\n",
    "# for each element in artist_types\n",
    "for x in artist_types:\n",
    "\n",
    "    # defining what type of artist type we're dealing with\n",
    "    artist_type = df.loc[df['artist type'] == x]\n",
    "\n",
    "    # takes each artist type and finds the average popularity rating based on each genre\n",
    "    res = artist_type.groupby(['top genre']).mean()['pop']\n",
    "    # finds the three most popular genres\n",
    "    top_3_genre = res.nlargest(3).to_dict()\n",
    "\n",
    "    # shows the result\n",
    "    print('Artist type:', x)\n",
    "    print('Genres and ratings:', top_3_genre)\n",
    "\n",
    "\n"
   ]
  }
 ],
 "metadata": {
  "interpreter": {
   "hash": "369f2c481f4da34e4445cda3fffd2e751bd1c4d706f27375911949ba6bb62e1c"
  },
  "kernelspec": {
   "display_name": "Python 3.10.0 64-bit",
   "language": "python",
   "name": "python3"
  },
  "language_info": {
   "codemirror_mode": {
    "name": "ipython",
    "version": 3
   },
   "file_extension": ".py",
   "mimetype": "text/x-python",
   "name": "python",
   "nbconvert_exporter": "python",
   "pygments_lexer": "ipython3",
   "version": "3.10.0"
  }
 },
 "nbformat": 4,
 "nbformat_minor": 0
}