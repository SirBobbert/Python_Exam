{
 "cells": [
  {
   "cell_type": "code",
   "execution_count": 9,
   "metadata": {
    "collapsed": false,
    "pycharm": {
     "name": "#%%\n"
    }
   },
   "outputs": [
    {
     "name": "stdout",
     "output_type": "stream",
     "text": [
      "                  year released         bpm       nrgy   dnce    dB  \\\n",
      "top genre                                                             \n",
      "acoustic pop        2010.000000  119.000000  76.000000  68.00  -4.0   \n",
      "adult standards     2013.000000  144.000000  80.000000  53.00  -4.0   \n",
      "afro dancehall      2020.000000  102.000000  62.000000  84.00  -5.0   \n",
      "afrofuturism        2018.000000  115.000000  41.000000  86.00  -7.0   \n",
      "afroswing           2018.250000  111.750000  58.250000  74.75  -6.5   \n",
      "...                         ...         ...        ...    ...   ...   \n",
      "social media pop    2017.000000  145.000000  89.000000  80.00  -3.0   \n",
      "talent show         2011.000000   82.000000  68.000000  44.00  -6.0   \n",
      "tropical house      2013.000000  125.000000  68.000000  75.00  -4.0   \n",
      "uk drill            2019.000000  141.000000  47.000000  86.00 -10.0   \n",
      "uk hip hop          2013.666667  107.666667  75.666667  76.00  -5.0   \n",
      "\n",
      "                       live        val         dur      acous  spch    pop  \\\n",
      "top genre                                                                    \n",
      "acoustic pop       6.000000  81.000000  207.000000  46.000000   4.0  66.00   \n",
      "adult standards   30.000000  78.000000  199.000000   6.000000   4.0  71.00   \n",
      "afro dancehall    10.000000  76.000000  240.000000  39.000000   9.0  62.00   \n",
      "afrofuturism      33.000000  70.000000  194.000000  13.000000  18.0  68.00   \n",
      "afroswing         12.250000  70.000000  193.000000  32.000000  11.5  65.25   \n",
      "...                     ...        ...         ...        ...   ...    ...   \n",
      "social media pop  27.000000  79.000000  239.000000   8.000000   4.0  73.00   \n",
      "talent show       31.000000  45.000000  226.000000   2.000000   3.0  52.00   \n",
      "tropical house    11.000000  25.000000  221.000000  11.000000   3.0  63.00   \n",
      "uk drill          12.000000  64.000000  253.000000  25.000000  48.0  73.00   \n",
      "uk hip hop        13.666667  63.333333  214.666667  12.333333  17.0  69.00   \n",
      "\n",
      "                  top year  \n",
      "top genre                   \n",
      "acoustic pop       2010.00  \n",
      "adult standards    2013.00  \n",
      "afro dancehall     2019.00  \n",
      "afrofuturism       2018.00  \n",
      "afroswing          2018.25  \n",
      "...                    ...  \n",
      "social media pop   2017.00  \n",
      "talent show        2010.00  \n",
      "tropical house     2013.00  \n",
      "uk drill           2019.00  \n",
      "uk hip hop         2014.00  \n",
      "\n",
      "[132 rows x 12 columns]\n"
     ]
    },
    {
     "ename": "TypeError",
     "evalue": "DataFrame.sort_values() missing 1 required positional argument: 'by'",
     "output_type": "error",
     "traceback": [
      "\u001b[1;31m---------------------------------------------------------------------------\u001b[0m",
      "\u001b[1;31mTypeError\u001b[0m                                 Traceback (most recent call last)",
      "\u001b[1;32mc:\\Users\\alexk\\OneDrive\\Skrivebord\\4Sem\\Python\\docker_notebooks\\notebooks\\MyFolder\\Python_Exam\\Task\\task_2.ipynb Cell 1'\u001b[0m in \u001b[0;36m<module>\u001b[1;34m\u001b[0m\n\u001b[0;32m     <a href='vscode-notebook-cell:/c%3A/Users/alexk/OneDrive/Skrivebord/4Sem/Python/docker_notebooks/notebooks/MyFolder/Python_Exam/Task/task_2.ipynb#ch0000000?line=13'>14</a>\u001b[0m \u001b[39mprint\u001b[39m(genres_with_pop)\n\u001b[0;32m     <a href='vscode-notebook-cell:/c%3A/Users/alexk/OneDrive/Skrivebord/4Sem/Python/docker_notebooks/notebooks/MyFolder/Python_Exam/Task/task_2.ipynb#ch0000000?line=15'>16</a>\u001b[0m \u001b[39m# sorts the dataframe so it will be displayed correctly\u001b[39;00m\n\u001b[1;32m---> <a href='vscode-notebook-cell:/c%3A/Users/alexk/OneDrive/Skrivebord/4Sem/Python/docker_notebooks/notebooks/MyFolder/Python_Exam/Task/task_2.ipynb#ch0000000?line=16'>17</a>\u001b[0m sorted_df \u001b[39m=\u001b[39m genres_with_pop\u001b[39m.\u001b[39;49msort_values(ascending\u001b[39m=\u001b[39;49m\u001b[39mTrue\u001b[39;49;00m)\n\u001b[0;32m     <a href='vscode-notebook-cell:/c%3A/Users/alexk/OneDrive/Skrivebord/4Sem/Python/docker_notebooks/notebooks/MyFolder/Python_Exam/Task/task_2.ipynb#ch0000000?line=18'>19</a>\u001b[0m \u001b[39m# creates a dict from the dataframe\u001b[39;00m\n\u001b[0;32m     <a href='vscode-notebook-cell:/c%3A/Users/alexk/OneDrive/Skrivebord/4Sem/Python/docker_notebooks/notebooks/MyFolder/Python_Exam/Task/task_2.ipynb#ch0000000?line=19'>20</a>\u001b[0m new_dict \u001b[39m=\u001b[39m sorted_df\u001b[39m.\u001b[39mto_dict()\n",
      "File \u001b[1;32mc:\\Python310\\lib\\site-packages\\pandas\\util\\_decorators.py:311\u001b[0m, in \u001b[0;36mdeprecate_nonkeyword_arguments.<locals>.decorate.<locals>.wrapper\u001b[1;34m(*args, **kwargs)\u001b[0m\n\u001b[0;32m    <a href='file:///c%3A/Python310/lib/site-packages/pandas/util/_decorators.py?line=304'>305</a>\u001b[0m \u001b[39mif\u001b[39;00m \u001b[39mlen\u001b[39m(args) \u001b[39m>\u001b[39m num_allow_args:\n\u001b[0;32m    <a href='file:///c%3A/Python310/lib/site-packages/pandas/util/_decorators.py?line=305'>306</a>\u001b[0m     warnings\u001b[39m.\u001b[39mwarn(\n\u001b[0;32m    <a href='file:///c%3A/Python310/lib/site-packages/pandas/util/_decorators.py?line=306'>307</a>\u001b[0m         msg\u001b[39m.\u001b[39mformat(arguments\u001b[39m=\u001b[39marguments),\n\u001b[0;32m    <a href='file:///c%3A/Python310/lib/site-packages/pandas/util/_decorators.py?line=307'>308</a>\u001b[0m         \u001b[39mFutureWarning\u001b[39;00m,\n\u001b[0;32m    <a href='file:///c%3A/Python310/lib/site-packages/pandas/util/_decorators.py?line=308'>309</a>\u001b[0m         stacklevel\u001b[39m=\u001b[39mstacklevel,\n\u001b[0;32m    <a href='file:///c%3A/Python310/lib/site-packages/pandas/util/_decorators.py?line=309'>310</a>\u001b[0m     )\n\u001b[1;32m--> <a href='file:///c%3A/Python310/lib/site-packages/pandas/util/_decorators.py?line=310'>311</a>\u001b[0m \u001b[39mreturn\u001b[39;00m func(\u001b[39m*\u001b[39margs, \u001b[39m*\u001b[39m\u001b[39m*\u001b[39mkwargs)\n",
      "\u001b[1;31mTypeError\u001b[0m: DataFrame.sort_values() missing 1 required positional argument: 'by'"
     ]
    }
   ],
   "source": [
    "\"\"\"2.\tVise en graf over de mest populære genre\n",
    "    a.\tHer vil vi bruge matplotlib til at lave et barplot\"\"\"\n",
    "\n",
    "# have to make a barplot\n",
    "\n",
    "import matplotlib.pyplot as plt\n",
    "import pandas as pd\n",
    "\n",
    "# importing dataset\n",
    "df = pd.read_csv('spotify_data.csv')\n",
    "\n",
    "# finds the average pop pr. top genre\n",
    "genres_with_pop = df.groupby(['top genre']).mean()['pop']\n",
    "#print(genres_with_pop)\n",
    "\n",
    "# sorts the dataframe so it will be displayed correctly\n",
    "sorted_df = genres_with_pop.sort_values(ascending=True)\n",
    "\n",
    "# creates a dict from the dataframe\n",
    "new_dict = sorted_df.to_dict()\n",
    "\n",
    "# size of the plot\n",
    "plt.rcParams[\"figure.figsize\"] = (35, 10)\n",
    "\n",
    "# plotting the data\n",
    "plt.bar(new_dict.keys(), new_dict.values())\n",
    "\n",
    "# eye-candy\n",
    "plt.title('Genre popularity over the years')\n",
    "plt.xlabel('Genre')\n",
    "plt.xticks(rotation=90)\n",
    "plt.ylabel('Popularity')\n",
    "\n",
    "# prints the plot\n",
    "plt.show()"
   ]
  }
 ],
 "metadata": {
  "interpreter": {
   "hash": "369f2c481f4da34e4445cda3fffd2e751bd1c4d706f27375911949ba6bb62e1c"
  },
  "kernelspec": {
   "display_name": "Python 3.10.0 64-bit",
   "language": "python",
   "name": "python3"
  },
  "language_info": {
   "codemirror_mode": {
    "name": "ipython",
    "version": 3
   },
   "file_extension": ".py",
   "mimetype": "text/x-python",
   "name": "python",
   "nbconvert_exporter": "python",
   "pygments_lexer": "ipython3",
   "version": "3.10.0"
  }
 },
 "nbformat": 4,
 "nbformat_minor": 0
}
