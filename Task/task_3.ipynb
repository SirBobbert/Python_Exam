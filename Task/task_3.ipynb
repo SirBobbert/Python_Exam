{
 "cells": [
  {
   "cell_type": "raw",
   "metadata": {
    "collapsed": true,
    "pycharm": {
     "name": "#%% raw\n"
    }
   },
   "source": [
    "3.\tHar årstal udgivet og val et sammenhæng\n",
    "    a.\tHer vil vi lave linær regression for at se om sammenhængen er positiv eller negativ"
   ]
  },
  {
   "cell_type": "code",
   "execution_count": 1,
   "outputs": [
    {
     "data": {
      "text/plain": "<Figure size 432x288 with 1 Axes>",
      "image/png": "[encoded data removed]"
     },
     "metadata": {
      "needs_background": "light"
     },
     "output_type": "display_data"
    }
   ],
   "source": [
    "# imports\n",
    "import matplotlib.pyplot as plt\n",
    "import pandas as pd\n",
    "from sklearn.linear_model import LinearRegression\n",
    "\n",
    "# dataset\n",
    "dataset = pd.read_csv('spotify_data.csv')\n",
    "\n",
    "# finds the average of dataframe based on year released\n",
    "means = dataset.groupby('year released').mean()\n",
    "\n",
    "# preparing values for the regression\n",
    "X = means.iloc[:,10].values.reshape(-1, 1)\n",
    "y = means.iloc[:,5].values.reshape(-1, 1)\n",
    "\n",
    "# fitting linear regression to the set\n",
    "regressor = LinearRegression()\n",
    "regressor.fit(X,y)\n",
    "\n",
    "# predicting the set results\n",
    "y_pred = regressor.predict(X)\n",
    "\n",
    "# prints the graph\n",
    "plt.scatter(X, y, color = 'red')\n",
    "plt.plot(X, regressor.predict(X), color = 'blue')\n",
    "plt.title('Val over the years')\n",
    "plt.xlabel('Year Released')\n",
    "plt.ylabel('Val')\n",
    "plt.grid()\n",
    "plt.show()"
   ],
   "metadata": {
    "collapsed": false,
    "pycharm": {
     "name": "#%%\n"
    }
   }
  },
  {
   "cell_type": "code",
   "execution_count": 2,
   "outputs": [
    {
     "name": "stdout",
     "output_type": "stream",
     "text": [
      "[[-1.3779298]]\n"
     ]
    }
   ],
   "source": [
    "lm = LinearRegression()\n",
    "lm.fit(X, y)\n",
    "\n",
    "coefficient = lm.coef_\n",
    "\n",
    "print(coefficient)\n",
    "\n"
   ],
   "metadata": {
    "collapsed": false,
    "pycharm": {
     "name": "#%%\n"
    }
   }
  }
 ],
 "metadata": {
  "kernelspec": {
   "display_name": "Python 3",
   "language": "python",
   "name": "python3"
  },
  "language_info": {
   "codemirror_mode": {
    "name": "ipython",
    "version": 2
   },
   "file_extension": ".py",
   "mimetype": "text/x-python",
   "name": "python",
   "nbconvert_exporter": "python",
   "pygments_lexer": "ipython2",
   "version": "2.7.6"
  }
 },
 "nbformat": 4,
 "nbformat_minor": 0
}