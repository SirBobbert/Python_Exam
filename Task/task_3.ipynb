{
 "cells": [
  {
   "cell_type": "raw",
   "metadata": {
    "collapsed": true,
    "pycharm": {
     "name": "#%% raw\n"
    }
   },
   "source": [
    "3.\tHar årstal udgivet og val et sammenhæng\n",
    "    a.\tHer vil vi lave linær regression for at se om sammenhængen er positiv eller negativ"
   ]
  },
  {
   "cell_type": "code",
   "execution_count": 2,
   "outputs": [
    {
     "name": "stdout",
     "output_type": "stream",
     "text": [
      "[[2019.        ]\n",
      " [2010.04166667]\n",
      " [2010.30851064]\n",
      " [2011.1827957 ]\n",
      " [2012.25      ]\n",
      " [2013.08139535]\n",
      " [2014.16831683]\n",
      " [2015.16161616]\n",
      " [2016.05813953]\n",
      " [2017.01010101]\n",
      " [2017.96428571]\n",
      " [2018.74712644]\n",
      " [2015.5       ]\n",
      " [2012.66666667]]\n"
     ]
    },
    {
     "data": {
      "text/plain": "<Figure size 432x288 with 1 Axes>",
      "image/png": "[encoded data removed]"
     },
     "metadata": {
      "needs_background": "light"
     },
     "output_type": "display_data"
    }
   ],
   "source": [
    "# imports\n",
    "import matplotlib.pyplot as plt\n",
    "import pandas as pd\n",
    "from sklearn.linear_model import LinearRegression\n",
    "\n",
    "# dataset\n",
    "dataset = pd.read_csv('spotify_data.csv')\n",
    "\n",
    "# finds the average of dataframe based on year released\n",
    "means = dataset.groupby('year released').mean()\n",
    "#print(means)\n",
    "\n",
    "# preparing values for the regression\n",
    "# x = year, y = val\n",
    "X = means.iloc[:,10].values.reshape(-1, 1)\n",
    "y = means.iloc[:,5].values.reshape(-1, 1)\n",
    "\n",
    "# fitting linear regression to the set\n",
    "regressor = LinearRegression()\n",
    "regressor.fit(X,y)\n",
    "\n",
    "# predicting the set results\n",
    "y_pred = regressor.predict(X)\n",
    "\n",
    "# prints the graph\n",
    "plt.scatter(X, y, color = 'red')\n",
    "plt.plot(X, regressor.predict(X), color = 'blue')\n",
    "plt.title('Val over the years')\n",
    "plt.xlabel('Year Released')\n",
    "plt.ylabel('Val')\n",
    "plt.grid()\n",
    "plt.show()"
   ],
   "metadata": {
    "collapsed": false,
    "pycharm": {
     "name": "#%%\n"
    }
   }
  },
  {
   "cell_type": "code",
   "execution_count": 2,
   "outputs": [
    {
     "name": "stdout",
     "output_type": "stream",
     "text": [
      "[[-1.3779298]]\n"
     ]
    }
   ],
   "source": [
    "lm = LinearRegression()\n",
    "lm.fit(X, y)\n",
    "\n",
    "coefficient = lm.coef_\n",
    "\n",
    "print(coefficient)"
   ],
   "metadata": {
    "collapsed": false,
    "pycharm": {
     "name": "#%%\n"
    }
   }
  }
 ],
 "metadata": {
  "kernelspec": {
   "display_name": "Python 3",
   "language": "python",
   "name": "python3"
  },
  "language_info": {
   "codemirror_mode": {
    "name": "ipython",
    "version": 2
   },
   "file_extension": ".py",
   "mimetype": "text/x-python",
   "name": "python",
   "nbconvert_exporter": "python",
   "pygments_lexer": "ipython2",
   "version": "2.7.6"
  }
 },
 "nbformat": 4,
 "nbformat_minor": 0
}